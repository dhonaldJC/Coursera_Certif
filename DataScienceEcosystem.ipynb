{
 "cells": [
  {
   "cell_type": "markdown",
   "id": "8da000e4",
   "metadata": {},
   "source": [
    "# Data Science Tools and Ecosystem"
   ]
  },
  {
   "cell_type": "markdown",
   "id": "ee72f72c",
   "metadata": {},
   "source": [
    "In this notebook, Data Science Tools and Ecosystem are summarized."
   ]
  },
  {
   "cell_type": "markdown",
   "id": "0e8a7e9a",
   "metadata": {},
   "source": [
    "### Some of the popular languages that Data Scientists use are:\n",
    "\n",
    "1. Python\n",
    "2. R\n",
    "3. SQL\n",
    "4. Julia\n",
    "5. Scala\n",
    "6. Matlab\n",
    "7. Java\n"
   ]
  },
  {
   "cell_type": "markdown",
   "id": "34068e58",
   "metadata": {},
   "source": [
    "### Some of the commonly used libraries used by Data Scientists include:\n",
    "\n",
    "1. NumPy\n",
    "2. Pandas\n",
    "3. Matplotlib\n",
    "4. Seaborn\n",
    "5. Scikit-learn\n",
    "6. TensorFlow\n",
    "7. Keras\n",
    "8. PyTorch\n",
    "9. SciPy\n",
    "10. Statsmodels"
   ]
  },
  {
   "cell_type": "markdown",
   "id": "b85e6fec",
   "metadata": {},
   "source": [
    "### Data Science Tools\n",
    "\n",
    "| Category | Tools/Libraries |\n",
    "| -------------| ------ |\n",
    "| Programming Languages | Python, R |\n",
    "| IDEs | Jupyter Notebook, RStudio |\n",
    "| Data Collection and Cleaning | BeautifulSoup (Python), rvest (R), Pandas, dplyr |\n",
    "| Data Storage and Management | PostgreSQL, MySQL, SQLite, MongoDB, Cassandra |\n",
    "| Machine Learning and Modeling | Scikit-learn, TensorFlow, PyTorch, XGBoost, LightGBM |\n",
    "| Data Visualization | Matplotlib, Seaborn, ggplot2 |\n",
    "| Version Control | Git, GitHub, GitLab |\n",
    "| Big Data Tools | Apache Hadoop, Apache Spark |\n",
    "| Cloud Services | AWS, Azure, GCP |\n",
    "| Containerization and Orchestration | Docker, Kubernetes |\n"
   ]
  },
  {
   "cell_type": "markdown",
   "id": "b5e4ca37",
   "metadata": {},
   "source": [
    "### Below are a few examples of evaluating arithmetic expressions in Python\n",
    "\n",
    "| Arithmetic Expression | Result |\n",
    "| -------------| ------ |\n",
    "| 2 + 3 | 5 |\n",
    "| 5 - 2 | 3 |\n",
    "| 4 * 6 | 24 |\n",
    "| 10 / 2 | 5.0 |\n",
    "| 7 // 3 | 2 |\n",
    "| 10 % 3 | 1 |\n",
    "| 2 ** 3 | 8 |\n"
   ]
  },
  {
   "cell_type": "code",
   "execution_count": 5,
   "id": "dc12e82c",
   "metadata": {},
   "outputs": [
    {
     "name": "stdout",
     "output_type": "stream",
     "text": [
      "The result is: 17\n"
     ]
    }
   ],
   "source": [
    "# Define the numbers\n",
    "num1 = 3\n",
    "num2 = 4\n",
    "num3 = 5\n",
    "\n",
    "# Multiply num1 and num2\n",
    "product = num1 * num2\n",
    "\n",
    "# Add num3 to the product\n",
    "result = product + num3\n",
    "\n",
    "# Print the result\n",
    "print(\"The result is:\", result)\n"
   ]
  },
  {
   "cell_type": "code",
   "execution_count": 6,
   "id": "2e51a8c4",
   "metadata": {},
   "outputs": [
    {
     "name": "stdout",
     "output_type": "stream",
     "text": [
      "200 minutes is equal to 3.3333333333333335 hours\n"
     ]
    }
   ],
   "source": [
    "# This will convert 200 minutes to hours by diving by 60\n",
    "\n",
    "# Define the number of minutes\n",
    "minutes = 200\n",
    "\n",
    "# Convert minutes to hours (1 hour = 60 minutes)\n",
    "hours = minutes / 60\n",
    "\n",
    "# Print the result\n",
    "print(\"200 minutes is equal to\", hours, \"hours\")\n"
   ]
  },
  {
   "cell_type": "markdown",
   "id": "a81658ee",
   "metadata": {},
   "source": [
    "### List popular languages for Data Science\n",
    "\n",
    "**This is the list:**\n",
    "* Python\n",
    "* R\n",
    "* SQL\n",
    "* Julia\n",
    "* Scala\n",
    "* Matlab\n",
    "* Java"
   ]
  },
  {
   "cell_type": "markdown",
   "id": "5eeef363",
   "metadata": {},
   "source": [
    "## Author\n",
    "\n",
    "Dhonald Johannes C.H.S"
   ]
  },
  {
   "cell_type": "code",
   "execution_count": null,
   "id": "5123e71b",
   "metadata": {},
   "outputs": [],
   "source": []
  }
 ],
 "metadata": {
  "kernelspec": {
   "display_name": "Python 3 (ipykernel)",
   "language": "python",
   "name": "python3"
  },
  "language_info": {
   "codemirror_mode": {
    "name": "ipython",
    "version": 3
   },
   "file_extension": ".py",
   "mimetype": "text/x-python",
   "name": "python",
   "nbconvert_exporter": "python",
   "pygments_lexer": "ipython3",
   "version": "3.11.5"
  }
 },
 "nbformat": 4,
 "nbformat_minor": 5
}
